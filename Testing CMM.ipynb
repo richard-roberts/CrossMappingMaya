{
 "cells": [
  {
   "cell_type": "code",
   "execution_count": 20,
   "metadata": {},
   "outputs": [],
   "source": [
    "import sys\n",
    "sys.path.append(\"F:/Development/CrossMappingMaya\")\n",
    "\n",
    "import imp\n",
    "\n",
    "import numpy\n",
    "import pandas\n",
    "import matplotlib.pyplot as plt\n",
    "\n",
    "import mapper"
   ]
  },
  {
   "cell_type": "markdown",
   "metadata": {},
   "source": [
    "## Run Mapper and solve it"
   ]
  },
  {
   "cell_type": "code",
   "execution_count": 63,
   "metadata": {},
   "outputs": [],
   "source": [
    "imp.reload(mapper)\n",
    "\n",
    "def solve_with_sigma(sigma):    \n",
    "    cm = mapper.CrossMapping([\"x\"], [\"x\", \"y\"], sigma)\n",
    "    cm.save_predefined_pose(\"P1\", numpy.array([0.00]), numpy.array([-1.0,-1.0]))\n",
    "    cm.save_predefined_pose(\"P2\", numpy.array([0.25]), numpy.array([ 1.0,-1.0]))\n",
    "    cm.save_predefined_pose(\"P3\", numpy.array([0.50]), numpy.array([ 1.0, 1.0]))\n",
    "    cm.save_predefined_pose(\"P4\", numpy.array([0.75]), numpy.array([-1.0, 1.0]))\n",
    "    cm.save_predefined_pose(\"P5\", numpy.array([1.00]), numpy.array([-1.0,-1.0]))\n",
    "    cm.solve()\n",
    "    return cm"
   ]
  },
  {
   "cell_type": "code",
   "execution_count": 64,
   "metadata": {},
   "outputs": [],
   "source": [
    "def get_data_frame(cm):\n",
    "    results = {\n",
    "        \"u\": [],\n",
    "        \"x\": [],\n",
    "        \"y\": []\n",
    "    }\n",
    "    n = 100\n",
    "    for i in range(n):\n",
    "        u = i / float(n - 1)\n",
    "        values = cm.apply(numpy.array([u]))\n",
    "        x, y = values\n",
    "        results[\"u\"].append(u)\n",
    "        results[\"x\"].append(x)\n",
    "        results[\"y\"].append(y)\n",
    "    df = pandas.DataFrame(data=results, dtype=numpy.float32)\n",
    "    return df"
   ]
  },
  {
   "cell_type": "code",
   "execution_count": 67,
   "metadata": {},
   "outputs": [],
   "source": [
    "import matplotlib.pyplot as plt\n",
    "from mpl_toolkits.mplot3d import Axes3D\n",
    "from matplotlib.widgets import Slider\n",
    "\n",
    "%matplotlib qt\n",
    "fig = plt.figure()\n",
    "ax = fig.add_subplot(111, projection='3d')\n",
    "\n",
    "def run(sigma):\n",
    "    cm = solve_with_sigma(sigma)\n",
    "    df = get_data_frame(cm)\n",
    "    ax.scatter(df[\"u\"], df[\"x\"], df[\"y\"])\n",
    "\n",
    "run(1.0)\n",
    "uval_ax = plt.axes([0.25, 0.05, 0.65, 0.03])\n",
    "s_uval = Slider(uval_ax, 'SIGMA', 0.0, 1.0, valinit=1.0, valstep=0.01)\n",
    "\n",
    "def update_by_uval(val):\n",
    "    ax.cla()\n",
    "    run(val)\n",
    "    fig.canvas.draw_idle()\n",
    "    \n",
    "s_uval.on_changed(update_by_uval)\n",
    "\n",
    "\n",
    "ax.set_xlabel('U')\n",
    "ax.set_ylabel('X')\n",
    "ax.set_zlabel('Y')\n",
    "plt.show()"
   ]
  }
 ],
 "metadata": {
  "kernelspec": {
   "display_name": "Python 3",
   "language": "python",
   "name": "python3"
  },
  "language_info": {
   "codemirror_mode": {
    "name": "ipython",
    "version": 3
   },
   "file_extension": ".py",
   "mimetype": "text/x-python",
   "name": "python",
   "nbconvert_exporter": "python",
   "pygments_lexer": "ipython3",
   "version": "3.7.4"
  }
 },
 "nbformat": 4,
 "nbformat_minor": 2
}
